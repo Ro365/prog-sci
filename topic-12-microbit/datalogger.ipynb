{
 "cells": [
  {
   "cell_type": "markdown",
   "metadata": {},
   "source": [
    "## Original Data Logger\n",
    "\n",
    "Here is our original data logger, that uses the on-board data logger. \n",
    "\n",
    "---\n",
    "```\n",
    "from microbit import *\n",
    "import log\n",
    "\n",
    "log_active = False\n",
    "\n",
    "def get_temperature():\n",
    "    if log_active:\n",
    "        temp = int(temperature() * 1.8 + 32.5)\n",
    "        display.scroll(temp)\n",
    "        log.add({\"temp\":temp})\n",
    "    \n",
    "run_every(get_temperature,s=10)\n",
    "\n",
    "# Code in a 'while True:' loop repeats forever\n",
    "while True:\n",
    "    if button_a.was_pressed():\n",
    "        log_active = not(log_active)\n",
    "    if button_b.was_pressed():\n",
    "        log.delete(full=True)\n",
    "        display.scroll(\"#\")\n",
    "    if log_active:\n",
    "        display.scroll(\"+\")\n",
    "    else:\n",
    "        display.scroll(\"-\")\n",
    "    sleep(1000)\n",
    "```\n",
    "---"
   ]
  },
  {
   "cell_type": "markdown",
   "metadata": {},
   "source": [
    "## Online Data Logger\n",
    "\n",
    "We want to try to log data directly to a computer, where we can process it appropriately. We will send data every few seconds.\n",
    "\n",
    "Let's send this code to the Micro:Bit using the online editor\n",
    "\n",
    "---\n",
    "```\n",
    "from microbit import *\n",
    "\n",
    "while True:\n",
    "    display.show(\"*\")\n",
    "    sleep(500)\n",
    "    temp = int(temperature() * 1.8 + 32.5)\n",
    "    print(temp)\n",
    "    display.clear()\n",
    "    sleep(2500)  # Wait for 3 seconds   ```\n",
    "```"
   ]
  },
  {
   "cell_type": "code",
   "execution_count": null,
   "metadata": {},
   "outputs": [],
   "source": [
    "!pip install pyserial"
   ]
  },
  {
   "cell_type": "code",
   "execution_count": null,
   "metadata": {},
   "outputs": [],
   "source": [
    "import serial\n",
    "import serial.tools.list_ports"
   ]
  },
  {
   "cell_type": "code",
   "execution_count": null,
   "metadata": {},
   "outputs": [],
   "source": [
    "microbit_port = None\n",
    "ports = serial.tools.list_ports.comports()\n",
    "for port in ports:\n",
    "    print(port.description, port.device)\n",
    "    if \"micro:bit\" in port.description.lower():\n",
    "        microbit_port = port.device\n",
    "print(f\"Micro:bit found on port {microbit_port}.\")"
   ]
  },
  {
   "cell_type": "code",
   "execution_count": null,
   "metadata": {},
   "outputs": [],
   "source": [
    "baud_rate = 115200\n",
    "serial_port = serial.Serial(microbit_port, baud_rate, timeout=1)\n",
    "serial_port"
   ]
  },
  {
   "cell_type": "code",
   "execution_count": null,
   "metadata": {},
   "outputs": [],
   "source": [
    "serial_port.reset_input_buffer()\n",
    "line = serial_port.readline()\n",
    "while True:\n",
    "    # Read a line from the Micro:Bit\n",
    "    line = serial_port.readline()\n",
    "    if line:\n",
    "        line = line.decode(\"utf-8\").strip()\n",
    "        temp = float(line)\n",
    "        print(temp)"
   ]
  },
  {
   "cell_type": "code",
   "execution_count": null,
   "metadata": {},
   "outputs": [],
   "source": [
    "from datetime import datetime\n",
    "\n",
    "# Get the current time\n",
    "current_time = datetime.now().time()\n",
    "\n",
    "print(f\"The current time is: {current_time}\")"
   ]
  },
  {
   "cell_type": "code",
   "execution_count": null,
   "metadata": {},
   "outputs": [],
   "source": [
    "serial_port.reset_input_buffer()\n",
    "line = serial_port.readline()\n",
    "while True:\n",
    "    # Read a line from the Micro:Bit\n",
    "    line = serial_port.readline()\n",
    "    if line:\n",
    "        line = line.decode(\"utf-8\").strip()\n",
    "        if line != \"\":\n",
    "            time = datetime.now().time()\n",
    "            temp = float(line)\n",
    "            print([time, temp])"
   ]
  }
 ],
 "metadata": {
  "kernelspec": {
   "display_name": "Python 3",
   "language": "python",
   "name": "python3"
  },
  "language_info": {
   "codemirror_mode": {
    "name": "ipython",
    "version": 3
   },
   "file_extension": ".py",
   "mimetype": "text/x-python",
   "name": "python",
   "nbconvert_exporter": "python",
   "pygments_lexer": "ipython3",
   "version": "3.12.6"
  }
 },
 "nbformat": 4,
 "nbformat_minor": 2
}
